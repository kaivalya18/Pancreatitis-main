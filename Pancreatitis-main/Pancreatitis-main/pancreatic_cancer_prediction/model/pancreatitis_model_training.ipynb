{
    "cells": [
        {
            "cell_type": "markdown",
            "metadata": {},
            "source": [
                "# Pancreatic Cancer Prediction Model\n",
                "This notebook trains and saves a machine learning model to predict pancreatitis likelihood based on patient data."
            ]
        },
        {
            "cell_type": "code",
            "execution_count": 1,
            "metadata": {},
            "outputs": [],
            "source": [
                "import numpy as np\n",
                "import pandas as pd\n",
                "import joblib\n",
                "import os\n",
                "from sklearn.model_selection import train_test_split\n",
                "from sklearn.ensemble import RandomForestClassifier\n",
                "from sklearn.preprocessing import LabelEncoder\n",
                "from sklearn.impute import SimpleImputer\n",
                "from sklearn.metrics import accuracy_score\n"
            ]
        },
        {
            "cell_type": "markdown",
            "metadata": {},
            "source": [
                "## Load Dataset"
            ]
        },
        {
            "cell_type": "code",
            "execution_count": 2,
            "metadata": {},
            "outputs": [],
            "source": [
                "dataset_path = os.path.join(os.path.dirname(__file__), \"Balanced_Pancreatitis_Dataset.csv\")\n",
                "df = pd.read_csv(dataset_path)\n",
                "df.head()"
            ]
        },
        {
            "cell_type": "markdown",
            "metadata": {},
            "source": [
                "## Handle Missing Values"
            ]
        },
        {
            "cell_type": "code",
            "execution_count": 3,
            "metadata": {},
            "outputs": [],
            "source": [
                "# Fill numerical columns with median values\n",
                "num_imputer = SimpleImputer(strategy='median')\n",
                "numerical_cols = df.select_dtypes(include=['float64', 'int64']).columns\n",
                "df[numerical_cols] = num_imputer.fit_transform(df[numerical_cols])\n",
                "\n",
                "# Fill categorical columns with mode (most frequent value)\n",
                "cat_imputer = SimpleImputer(strategy='most_frequent')\n",
                "categorical_cols = df.select_dtypes(include=['object']).columns\n",
                "df[categorical_cols] = cat_imputer.fit_transform(df[categorical_cols])"
            ]
        },
        {
            "cell_type": "markdown",
            "metadata": {},
            "source": [
                "## Encode Categorical Variables"
            ]
        },
        {
            "cell_type": "code",
            "execution_count": 4,
            "metadata": {},
            "outputs": [],
            "source": [
                "label_encoders = {}\n",
                "for col in categorical_cols:\n",
                "    le = LabelEncoder()\n",
                "    df[col] = le.fit_transform(df[col])\n",
                "    label_encoders[col] = le"
            ]
        },
        {
            "cell_type": "markdown",
            "metadata": {},
            "source": [
                "## Define Features and Target"
            ]
        },
        {
            "cell_type": "code",
            "execution_count": 5,
            "metadata": {},
            "outputs": [],
            "source": [
                "X = df.drop(columns=['Target'])  # Features\n",
                "y = df['Target']  # Target variable\n",
                "\n",
                "# Split the dataset\n",
                "X_train, X_test, y_train, y_test = train_test_split(X, y, test_size=0.2, random_state=42)"
            ]
        },
        {
            "cell_type": "markdown",
            "metadata": {},
            "source": [
                "## Train Machine Learning Model"
            ]
        },
        {
            "cell_type": "code",
            "execution_count": 6,
            "metadata": {},
            "outputs": [],
            "source": [
                "# Train a Random Forest model\n",
                "model = RandomForestClassifier(n_estimators=100, random_state=42)\n",
                "model.fit(X_train, y_train)\n",
                "\n",
                "# Evaluate the model\n",
                "y_pred = model.predict(X_test)\n",
                "accuracy = accuracy_score(y_test, y_pred)\n",
                "print(f'Model Accuracy: {accuracy * 100:.2f}%')"
            ]
        },
        {
            "cell_type": "markdown",
            "metadata": {},
            "source": [
                "## Save the Model using joblib"
            ]
        },
        {
            "cell_type": "code",
            "execution_count": 7,
            "metadata": {},
            "outputs": [],
            "source": [
                "# Save the trained model using joblib\n",
                "joblib.dump(model, 'model.joblib')\n",
                "print('Model saved successfully!')"
            ]
        }
    ],
    "metadata": {
        "kernelspec": {
            "display_name": "Python 3",
            "language": "python",
            "name": "python3"
        },
        "language_info": {
            "codemirror_mode": {
                "name": "ipython",
                "version": 3
            },
            "file_extension": ".py",
            "mimetype": "text/x-python",
            "name": "python",
            "nbconvert_exporter": "python",
            "pygments_lexer": "ipython3",
            "version": "3.8.5"
        }
    },
    "nbformat": 4,
    "nbformat_minor": 4
}